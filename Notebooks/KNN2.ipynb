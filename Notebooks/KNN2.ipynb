{
  "nbformat": 4,
  "nbformat_minor": 0,
  "metadata": {
    "colab": {
      "name": "Copy of KNN2.ipynb",
      "version": "0.3.2",
      "provenance": [],
      "collapsed_sections": []
    },
    "kernelspec": {
      "name": "python3",
      "display_name": "Python 3"
    }
  },
  "cells": [
    {
      "cell_type": "markdown",
      "metadata": {
        "id": "I4mIOdFIa9Ci",
        "colab_type": "text"
      },
      "source": [
        "# Notebook KNN2: Lernverfahren\n",
        "\n",
        "In diesem Notebook wollen wir ein Modell für einen Datensatz von (x,y)-Punkten finden.\n",
        "Zudem versuchen wir, ein neuronales Netz die Exponentialfunktion \"lernen\" zu lassen.\n",
        "\n",
        "Aktivieren Sie zunächst folgende Zelle, um die nötigen Programmpakete zu laden. "
      ]
    },
    {
      "cell_type": "code",
      "metadata": {
        "id": "GvN6_IzSTUFU",
        "colab_type": "code",
        "colab": {
          "base_uri": "https://localhost:8080/",
          "height": 127
        },
        "outputId": "ab101644-e399-4946-a3a7-1d6307f0ccf4"
      },
      "source": [
        "import warnings\n",
        "warnings.filterwarnings('ignore')\n",
        "import numpy as np\n",
        "import tensorflow as tf\n",
        "import matplotlib.pyplot as plt\n",
        "%pylab inline\n",
        "pylab.rcParams['figure.figsize'] = (10, 6)\n",
        "!pip install graphviz\n",
        "!pip install tfgraphviz\n",
        "import tfgraphviz as tfg\n",
        "!git clone \"https://github.com/Sammy-Jankins/KNN_Lernen.git\" \"KNN_Lernen\" 2> /dev/null || (cd \"/KNN_Lernen/\" ; git pull)\n",
        "import KNN_Lernen.KNN_Funktionen as knn"
      ],
      "execution_count": 2,
      "outputs": [
        {
          "output_type": "stream",
          "text": [
            "Populating the interactive namespace from numpy and matplotlib\n",
            "Requirement already satisfied: graphviz in /usr/local/lib/python3.6/dist-packages (0.10.1)\n",
            "Requirement already satisfied: tfgraphviz in /usr/local/lib/python3.6/dist-packages (0.0.7)\n",
            "Requirement already satisfied: graphviz in /usr/local/lib/python3.6/dist-packages (from tfgraphviz) (0.10.1)\n",
            "/bin/bash: line 0: cd: /KNN_Lernen/: No such file or directory\n",
            "fatal: not a git repository (or any of the parent directories): .git\n"
          ],
          "name": "stdout"
        }
      ]
    },
    {
      "cell_type": "markdown",
      "metadata": {
        "id": "7Cb7NJokTKJ5",
        "colab_type": "text"
      },
      "source": [
        "# Datensatz\n",
        "Der folgende Datensatz besteht aus 30 (x,y)-Paaren. Die x-Werte sind alle ganzen Zahlen von 0 bis 30, die 15 ausgenommen. \n",
        "\n",
        "**Unsere Aufgabe: Ein Modell für den Zusammenhang zwischen y und x finden und die y-Werte für x = 15 und x=40 schätzen/vorhersagen.**\n",
        "\n",
        "Klicken Sie auf 'Play', um die Daten zu plotten. \n"
      ]
    },
    {
      "cell_type": "code",
      "metadata": {
        "id": "0p4XiP7xTFek",
        "colab_type": "code",
        "colab": {
          "base_uri": "https://localhost:8080/",
          "height": 390
        },
        "outputId": "473cc785-fb90-4003-9c9f-0db890827cba"
      },
      "source": [
        "x_Werte = [ 0.,  1.,  2.,  3.,  4.,  5.,  6.,  7.,  8.,  9., 10., 11., 12.,\n",
        "       13., 14., 16., 17., 18., 19., 20., 21., 22., 23., 24., 25.,\n",
        "       26., 27., 28., 29., 30.]\n",
        "y_Werte = [10.01658801, 12.44031689, 16.74158448, 16.99873647, 19.9301948 ,\n",
        "       21.3662462 , 21.81029917, 28.12350724, 23.99691104, 30.37132938,\n",
        "       30.7411985 , 27.51173669, 29.86051921, 31.83605475, 30.53806554,\n",
        "       38.67317334, 48.65172013, 49.65403085, 47.05943994,\n",
        "       56.90034954, 60.5995608 , 49.83008854, 58.24880042, 61.19101233,\n",
        "       61.06640885, 57.78297408, 58.12449899, 65.83760744, 63.55813398,\n",
        "       73.22576714]\n",
        "plt.title('x-y-Werte von Datensatz 1')\n",
        "plt.scatter(x_Werte, y_Werte)\n",
        "plt.show()"
      ],
      "execution_count": 4,
      "outputs": [
        {
          "output_type": "display_data",
          "data": {
            "image/png": "[encoded data removed]",
            "text/plain": [
              "<Figure size 720x432 with 1 Axes>"
            ]
          },
          "metadata": {
            "tags": []
          }
        }
      ]
    },
    {
      "cell_type": "markdown",
      "metadata": {
        "id": "fnFYlLLocOcQ",
        "colab_type": "text"
      },
      "source": [
        "Die Grafik legt nahe, dass ein lineares Modell zugrunde liegt, d.h. $y \\approx ax + b$. \n",
        "\n",
        "**Frage 1:**  Bestimmen Sie die Werte a und b so, dass die rote Gerade möglichst gut passt. Unsere Vorhersage für x=15 bzw. 40 ist dann also a\\*15 + b bzw. a\\*40 + b. "
      ]
    },
    {
      "cell_type": "code",
      "metadata": {
        "id": "e34an_luccM-",
        "colab_type": "code",
        "outputId": "f69b3f96-23e8-4fdd-8e9c-6e2292e7a243",
        "colab": {
          "base_uri": "https://localhost:8080/",
          "height": 415
        }
      },
      "source": [
        "a = 0\n",
        "b = 40\n",
        "\n",
        "y_Gerade = np.multiply(x_Werte, a)\n",
        "y_Gerade = np.add(y_Gerade, b)\n",
        "plt.scatter(x_Werte, y_Werte)\n",
        "plt.plot(x_Werte, y_Gerade, color='red')\n",
        "plt.show()\n",
        "print(\"Vorhersage für x = 15: y = \" + str(15 * a + b))\n",
        "print(\"Vorhersage für x = 40: y = \" + str(40 * a + b))"
      ],
      "execution_count": 0,
      "outputs": [
        {
          "output_type": "display_data",
          "data": {
            "image/png": "[encoded data removed]",
            "text/plain": [
              "<Figure size 720x432 with 1 Axes>"
            ]
          },
          "metadata": {
            "tags": []
          }
        },
        {
          "output_type": "stream",
          "text": [
            "Vorhersage für x = 15: y = 40\n",
            "Vorhersage für x = 40: y = 40\n"
          ],
          "name": "stdout"
        }
      ]
    },
    {
      "cell_type": "markdown",
      "metadata": {
        "id": "xQntaS5uJXHA",
        "colab_type": "text"
      },
      "source": [
        "# Fehlerfunktion"
      ]
    },
    {
      "cell_type": "markdown",
      "metadata": {
        "id": "t4OKQvwYJiRf",
        "colab_type": "text"
      },
      "source": [
        "Wir betrachten nun ein neuronales Netz mit zwei Input-Neuronen $o_1, o_2$, einem Output-Neuron $o_{out}$ und der Funktion \n",
        "$\\phi_{out}(x)=x$. Für die Gewichte schreiben wir kurz $o_{1,out}=a$, $o_{2,out}=b$. Zudem sei $o_2$ ein Bias-Neuron.\n",
        "\n",
        "Ist nun $x$ der Zustandswert von $o_1$, so erhalten wir die Funktion\n",
        "$$f(x) = \\phi_{out}(a\\cdot x + b \\cdot 1)=a\\cdot x +b.$$\n"
      ]
    },
    {
      "cell_type": "markdown",
      "metadata": {
        "id": "u-TA-V8heg5t",
        "colab_type": "text"
      },
      "source": [
        "Das KNN soll nun $a$ und $b$ erlernen.\n",
        "\n",
        "Wir müssen zuerst eine Fehlerfunktion $Fehler(a,b)$ angeben, die von $a$ und $b$ (und den Daten) abhängt. Das KNN soll dann \n",
        "$a$ und $b$ so wählen, dass der Fehler minimiert wird (wenn möglich). Im Lernprozess sollen also $a_{min}$ und $b_{min}$ bestimmt werden, so dass \n",
        "$$Fehler(a_{min}, b_{min}) \\leq Fehler(a,b) $$\n",
        "für alle anderen Werte für $a$ und $b$. \n",
        "\n",
        "**Frage 2:** Welche der folgenden Beispiel-Funktionen für $Fehler(a,b)$ sind für unser Problem angemessen?\n",
        "\n",
        "\n",
        "*  Variante 1: Mittelwert der Differenzen:\n",
        "$$Fehler(a,b) = \\frac1{30} \\sum_{n=1}^{30} (f(x_n) -y_n) = \\sum_{n=1}^{30} (a\\cdot x_n + b -y_n).$$\n",
        "* Variante 2: Mittelwert der Quadrate der Differenzen:\n",
        "$$ Fehler(a,b) = \\frac1{30} \\sum_{n=1}^{30} (f(x_n) -y_n)^2 = \\sum_{n=1}^{30} (a\\cdot x_n + b -y_n)^2.$$\n",
        "\n",
        "* Variante 3: Summe der Quadrate der Differenzen bei zwei Punkten:\n",
        "$$ Fehler(a,b) = (a\\cdot x_1 + b -y_1)^2 + (a\\cdot x_{14} + b -y_{14})^2. $$\n"
      ]
    },
    {
      "cell_type": "markdown",
      "metadata": {
        "id": "1VEiCGDjjA2h",
        "colab_type": "text"
      },
      "source": [
        "\n",
        "\n",
        "\n",
        "Im Lernprozess wird versucht, die Funktion Fehler(a,b) zu minimieren, d.h. die optimalen Werte für a und b zu erlernen. Der Lernprozess hängt von folgenden Parametern ab:\n",
        "\n",
        "1.   Die Fehlerfunktion.\n",
        "2.   Das Lernverfahren, in diesem Fall das Gradientenverfahren.\n",
        "3.   Die Lernrate.\n",
        "4.   Die Anzahl der Iterationen.\n",
        "\n",
        "**Frage 3:**  Starten Sie den unten angegebenen Code mit den Werten Lernrate = 0.001 und Anzahl_Iterationen = 2000 und Fehlerfunktion = \"Variante 1\" bzw. \"Variante 2\" bzw. \"Variante 3\". Können Sie erklären, was das KNN in jedem dieser Fälle versucht zu \"lernen\"?\n",
        "\n",
        "**Frage 4:**  Wählen Sie Fehlerfunktion = \"Variante 3\". Können Sie 'Lernrate' und 'Anzahl_Iterationen' so verändern, dass der Fehler kleiner als 10^-7 wird?\n",
        "\n",
        "**Frage 5:**  Starten Sie den unten angegebenen Code mit den Werten Fehlerfunktion = \"Variante 2\", Lernrate = 0.01 und Anzahl_Iterationen = 20. Wieso konvergiert das Verfahren nicht mehr?\n",
        "Die optimalen Werte für a und b bei \"Variante 2\" kann man exakt berechnen. Es ergibt sich $$a =  1,9664075... \\quad b =  10,5934486...$$ \n",
        "Versuchen Sie, 'Lernrate' und 'Anzahl_Iterationen' so einzustellen, dass Sie diesen optimalen Werten bis auf drei Nachkommastellen nahe kommen.\n",
        "\n",
        "\n",
        " \n",
        " \n",
        "\n",
        "\n"
      ]
    },
    {
      "cell_type": "code",
      "metadata": {
        "id": "YJNgnEU4jS3m",
        "colab_type": "code",
        "colab": {}
      },
      "source": [
        "Fehlerfunktion = \"Variante 2\" # mögliche Werte: \"Variante 1\", \"Variante 2\", \"Variante 3\", siehe Skript\n",
        "Lernrate = 0.000001\n",
        "Anzahl_Iterationen = 100\n",
        "\n",
        "### Konstruktion des neuronalen Netzes\n",
        "\n",
        "y_Vorhersage_x_Werte, a_KNN, b_KNN = knn.KNN3_Lernen_1(x_Werte, y_Werte, Fehlerfunktion, Lernrate, Anzahl_Iterationen)\n",
        "        \n",
        "print('\\n')\n",
        "print(\"Wert für a: \" + str(a_KNN[0][0]) + \" und für b: \" + str(b_KNN[0][0]))\n",
        "print(\"Vorhersage für x=15: \" + str(15 * a_KNN[0][0] + b_KNN[0][0]))\n",
        "print(\"Vorhersage für x=40: \" + str(40 * a_KNN[0][0] + b_KNN[0][0]))\n",
        "\n",
        "plt.scatter(x_Werte, y_Werte)\n",
        "plt.scatter(x_Werte, y_Vorhersage_x_Werte, color='red')\n",
        "plt.show()"
      ],
      "execution_count": 0,
      "outputs": []
    },
    {
      "cell_type": "markdown",
      "metadata": {
        "id": "dd4w6H7WBUjK",
        "colab_type": "text"
      },
      "source": [
        "Zusammenfassung:"
      ]
    },
    {
      "cell_type": "code",
      "metadata": {
        "id": "RirfUbtbBVpC",
        "colab_type": "code",
        "colab": {}
      },
      "source": [
        "##x_Mittel = np.mean(x_Werte)\n",
        "#y_Mittel = np.mean(y_Werte)\n",
        "#a_kqs = np.sum((x_Werte - x_Mittel)*(y_Werte-y_Mittel)) / np.sum((x_Werte - x_Mittel)**2)\n",
        "#b_kqs = y_Mittel - a_kqs * x_Mittel\n",
        "#print(\"Optimaler Wert für a: \" + str(a_kqs) + \" und für b: \" + str(b_kqs))\n",
        "\n",
        "\n",
        "print(\"Werte für a und b:\")\n",
        "print(\"Geschätzte Werte:  a = \" + str(a) + \", b = \" + str(b))\n",
        "print(\"Optimaler Wert: a = \" + str(1.9664075) + \"..., b = \" + str(10.5934486)+'...')\n",
        "print(\"Neuronales Netz: a = \" + str(a_KNN[0][0]) + \", b = \" + str(b_KNN[0][0]))\n",
        "print('\\n')\n",
        "\n",
        "\n",
        "print(\"Vorhersage für x = 15:\")\n",
        "print(\"Geschätzter Wert: \" + str(a*15+b))\n",
        "print(\"Optimale a und b: \" + str(40.0895)+'...')\n",
        "print(\"Neuronales Netz: \" + str(a_KNN[0][0]*15+b_KNN[0][0]))\n",
        "print('\\n')\n",
        "\n",
        "print(\"Vorhersage für x = 40:\")\n",
        "print(\"Geschätzter Wert:  \" + str(a*40+b))\n",
        "print(\"Optimale a und b: \" + str(89.24975)+'...')\n",
        "print(\"Neuronales Netz: \" + str(a_KNN[0][0]*40+b_KNN[0][0]))\n"
      ],
      "execution_count": 0,
      "outputs": []
    },
    {
      "cell_type": "markdown",
      "metadata": {
        "id": "SbNIcn9-ZVzk",
        "colab_type": "text"
      },
      "source": [
        "# Approximieren der Exponentialfunktion\n",
        "Wir betrachten nun als Datensatz Punkte, die exakt auf dem Graphen der Exponentialfunktion liegen."
      ]
    },
    {
      "cell_type": "code",
      "metadata": {
        "id": "4CL5oUxXFeaE",
        "colab_type": "code",
        "outputId": "c3135220-f4f9-484d-d5b0-c599327ca8af",
        "colab": {
          "base_uri": "https://localhost:8080/",
          "height": 378
        }
      },
      "source": [
        "x_Werte_Exp = np.linspace(-3,3,200)\n",
        "y_Werte_Exp = np.exp(x_Werte_Exp)\n",
        "\n",
        "plt.scatter(x_Werte_Exp, y_Werte_Exp)\n",
        "plt.show()"
      ],
      "execution_count": 0,
      "outputs": [
        {
          "output_type": "display_data",
          "data": {
            "image/png": "[encoded data removed]",
            "text/plain": [
              "<Figure size 720x432 with 1 Axes>"
            ]
          },
          "metadata": {
            "tags": []
          }
        }
      ]
    },
    {
      "cell_type": "markdown",
      "metadata": {
        "id": "C_dznvUZS26A",
        "colab_type": "text"
      },
      "source": [
        "Verändern Sie die Werte für Lernrate, Anzahl_Iterationen, Anzahl_verborgene_Neuronen und Aktivierungsfunktion, so dass die gelernte Funktion einen möglichst kleinen Fehler auf den Trainingsdaten hat (Fehler < 2)."
      ]
    },
    {
      "cell_type": "code",
      "metadata": {
        "id": "Xd_GwHqbJ8nj",
        "colab_type": "code",
        "colab": {}
      },
      "source": [
        "Lernrate = 0.01\n",
        "Anzahl_Iterationen = 100\n",
        "Anzahl_verborgene_Neuronen = 5\n",
        "Aktivierungsfunktion = \"Linear\" # mögliche Werte: \"ReLU\", \"Sigmoid\", \"Linear\"\n",
        "\n",
        "y_Vorhersage_x_Wert = knn.KNN3_Lernen_2(x_Werte_Exp, y_Werte_Exp, Lernrate, Anzahl_Iterationen, Anzahl_verborgene_Neuronen, Aktivierungsfunktion)       \n",
        "\n",
        "plt.scatter(x_Werte_Exp, y_Werte_Exp)\n",
        "plt.scatter(x_Werte_Exp, y_Vorhersage_x_Werte, color='red')\n",
        "plt.show()\n",
        "\n",
        "maxi = 0\n",
        "for j in range(len(x_Werte_Exp)):\n",
        "    maxi = max(maxi, np.abs(y_Werte_Exp[j]-y_Vorhersage_x_Werte[j]))\n",
        "print(\"Der Approximationsfehler beträgt: \" + str(\"{:.4f}\".format(maxi[0])))\n",
        "if maxi < 2:\n",
        "    print(\"Der Fehler ist < 2, Glückwunsch!\")\n",
        "else:\n",
        "    print(\"Leider ist der Fehler > 2 :(\")"
      ],
      "execution_count": 0,
      "outputs": []
    },
    {
      "cell_type": "markdown",
      "metadata": {
        "id": "M9cgse7Iokip",
        "colab_type": "text"
      },
      "source": [
        "**Frage 6:** Ändern Sie in der vorletzten Code-Zelle den Befehl *y_Werte_Exp = np.exp(x_Werte_Exp)* zu *y_Werte_Exp = np.sin(x_Werte_Exp)* ab und lassen Sie Ihr KNN die neuen Daten trainieren.\n",
        "\n"
      ]
    },
    {
      "cell_type": "markdown",
      "metadata": {
        "id": "2to0bhPF3W4p",
        "colab_type": "text"
      },
      "source": [
        "# Trainings- und Testdaten"
      ]
    },
    {
      "cell_type": "markdown",
      "metadata": {
        "id": "Gb1Qn955_9Ot",
        "colab_type": "text"
      },
      "source": [
        "Im Allgemeinen teilt man die zur Verfügung stehenden Daten in Trainingsdaten und Testdaten auf. Z.B. könnten wir die folgende Aufteilung wählen: "
      ]
    },
    {
      "cell_type": "code",
      "metadata": {
        "id": "zFbaA1Yl245T",
        "colab_type": "code",
        "outputId": "3bc899ad-45b3-4839-f3c2-6138e581667b",
        "colab": {
          "base_uri": "https://localhost:8080/",
          "height": 390
        }
      },
      "source": [
        "x_train = x_Werte[0:20]\n",
        "x_test = x_Werte[20:30]\n",
        "y_train = y_Werte[0:20]\n",
        "y_test = y_Werte[20:30]\n",
        "plt.xlim(-5,35)\n",
        "plt.ylim(0,80)\n",
        "plt.title('Blau: Trainingsdaten, Grün: Testdaten')\n",
        "plt.scatter(x_train, y_train, color='blue')\n",
        "plt.scatter(x_test, y_test, alpha=0.4, color='green')\n",
        "plt.show()"
      ],
      "execution_count": 15,
      "outputs": [
        {
          "output_type": "display_data",
          "data": {
            "image/png": "[encoded data removed]",
            "text/plain": [
              "<Figure size 720x432 with 1 Axes>"
            ]
          },
          "metadata": {
            "tags": []
          }
        }
      ]
    },
    {
      "cell_type": "markdown",
      "metadata": {
        "id": "RWKA0Vtx4pxr",
        "colab_type": "text"
      },
      "source": [
        "Nun trainiert man das KNN nur mit Hilfe der Trainingsdaten und verwendet den Fehler auf den Testdaten als Gütemaß. Die Testdaten simulieren neue Daten, wie sie in der praktischen Anwendung auftreten könnten. \n",
        "\n",
        "Wenn der Fehler nur auf den Trainingsdaten sehr klein ist, kann der Fehler auf den Testdaten immer noch sehr groß sein und das KNN hätte sich 'überangepasst' (overfitting). Man denke an folgendes Beispiel:\n"
      ]
    },
    {
      "cell_type": "code",
      "metadata": {
        "id": "Ef5uvQOb-_07",
        "colab_type": "code",
        "colab": {
          "base_uri": "https://localhost:8080/",
          "height": 390
        },
        "outputId": "e00bac45-0a81-4549-c428-815e27ecaf8a"
      },
      "source": [
        "x_train = x_Werte[0:20]\n",
        "x_test = x_Werte[20:30]\n",
        "y_train = y_Werte[0:20]\n",
        "y_test = [60.5995608 , 49.83008854, 53.24880042, 51.19101233,\n",
        "       40.06640885, 47.78297408, 44.12449899, 41.83760744, 34.55813398,\n",
        "       30.22576714]\n",
        "plt.xlim(-5,35)\n",
        "plt.ylim(0,80)\n",
        "plt.title('Blau: Trainingsdaten, Grün: Testdaten')\n",
        "plt.scatter(x_train, y_train, color='blue')\n",
        "plt.scatter(x_test, y_test, alpha=0.4, color='green')\n",
        "plt.show()\n",
        "\n"
      ],
      "execution_count": 16,
      "outputs": [
        {
          "output_type": "display_data",
          "data": {
            "image/png": "[encoded data removed]",
            "text/plain": [
              "<Figure size 720x432 with 1 Axes>"
            ]
          },
          "metadata": {
            "tags": []
          }
        }
      ]
    }
  ]
}