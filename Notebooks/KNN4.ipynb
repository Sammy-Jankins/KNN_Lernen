{
  "nbformat": 4,
  "nbformat_minor": 0,
  "metadata": {
    "colab": {
      "name": "KNN4.ipynb",
      "version": "0.3.2",
      "provenance": [],
      "collapsed_sections": [
        "jrhW2UDlodLZ"
      ]
    },
    "kernelspec": {
      "name": "python3",
      "display_name": "Python 3"
    },
    "accelerator": "GPU"
  },
  "cells": [
    {
      "cell_type": "markdown",
      "metadata": {
        "id": "XEBgyhnCi3fm",
        "colab_type": "text"
      },
      "source": [
        "#Notebook KNN4: Bilderkennung\n",
        "\n",
        "\n",
        "\n"
      ]
    },
    {
      "cell_type": "markdown",
      "metadata": {
        "id": "Fh7vFXuXKHd5",
        "colab_type": "text"
      },
      "source": [
        "Wir wollen nun ein KNN konstruieren, welches handgeschriebene Ziffern erkennen soll. \n",
        "Sie werden sehen, wie einfach es ist, Ihr eigenes künstliches neuronales Netz zu definieren und trainieren zu lassen.\n",
        "\n",
        "\n",
        "Hierbei verwenden wir den MNIST-Datensatz (Modified National Institute of Standards and Technology Database). Dieser Datensatz besteht aus handgeschriebenen Ziffern von Mitarbeitern des American Census Bureau (Volkszählungsbehörde in den USA) sowie von amerikanischen High School-Schülern (siehe https://en.wikipedia.org/wiki/MNIST_database).\n",
        "\n",
        "Wir teilen die Daten in Trainingsdaten und Testdaten auf.\n",
        "Das KNN soll nur mittels der Trainingsdaten lernen und anschließend überprüfen wir mit den Testdaten die Genauigkeit unseres Modells.\n",
        "\n",
        "\n",
        "\n",
        "1.   Wir beschleunigen die Berechnungen in diesem Notebook, indem wir zusätzlich eine Grafikkarte verwenden: Gehen Sie auf \"Runtime\"-> \"Change runtime type\" und wählen Sie unter \"Hardware accelerator\" den Eintrag \"GPU\". Klicken Sie auf \"Save\". \n",
        "2.  Aktivieren Sie die folgende Zelle, um die nötigen Programmpakete und die Daten zu laden. Ignorieren Sie hierbei die im Code aufgeführten Befehle. Den Code aller weiteren Zellen werden Sie verstehen.\n",
        "\n",
        "\n",
        "\n"
      ]
    },
    {
      "cell_type": "code",
      "metadata": {
        "id": "cUPFHNCZiy03",
        "colab_type": "code",
        "outputId": "e099fa9b-42e9-4b7a-fe12-62c7f3abf2a9",
        "colab": {
          "base_uri": "https://localhost:8080/",
          "height": 423
        }
      },
      "source": [
        "import warnings\n",
        "warnings.filterwarnings('ignore')\n",
        "import tensorflow as tf\n",
        "from tensorflow.examples.tutorials.mnist import input_data\n",
        "import numpy as np\n",
        "from matplotlib import pyplot as plt\n",
        "from random import randint\n",
        "\n",
        "  \n",
        "import keras\n",
        "from keras.datasets import mnist\n",
        "from keras.layers import Dense\n",
        "from keras.models import Sequential\n",
        "from keras.layers import Dense, Dropout, Flatten\n",
        "from keras.layers import Conv2D, MaxPooling2D\n",
        "  # siehe https://colab.research.google.com/drive/1U0sRZdxVUn8LbQN9KidMaomKt2MPJ2-o#forceEdit=true&offline=true&sandboxMode=true&scrollTo=XaR6ncOmHNNw\n",
        "  #from keras.datasets import mnist\n",
        "  #(x_train, y_train), (x_test, y_test) = mnist.load_data()\n",
        "mnist = input_data.read_data_sets(\"MNIST_data/\")\n",
        "train_data = mnist.train.images  # Returns np.array\n",
        "train_labels = np.asarray(mnist.train.labels, dtype=np.int32)\n",
        "eval_data = mnist.test.images  # Returns np.array\n",
        "eval_labels = np.asarray(mnist.test.labels, dtype=np.int32)\n",
        "\n",
        "# Trainings- und Testdaten\n",
        "\n",
        "\n",
        "x_train = 100*train_data.reshape(len(train_data),28,28).astype('float32')\n",
        "x_test = 100*eval_data.reshape(len(eval_data),28,28).astype('float32')\n",
        "\n",
        "y_train = train_labels\n",
        "y_test = eval_labels\n",
        "\n",
        "y_train_hot = keras.utils.to_categorical(y_train, 10)\n",
        "y_test_hot = keras.utils.to_categorical(y_test, 10)\n",
        "  \n"
      ],
      "execution_count": 0,
      "outputs": [
        {
          "output_type": "stream",
          "text": [
            "Using TensorFlow backend.\n",
            "WARNING: Logging before flag parsing goes to stderr.\n",
            "W0626 14:49:30.225188 140478912391040 deprecation.py:323] From <ipython-input-1-db07df889231>:19: read_data_sets (from tensorflow.contrib.learn.python.learn.datasets.mnist) is deprecated and will be removed in a future version.\n",
            "Instructions for updating:\n",
            "Please use alternatives such as official/mnist/dataset.py from tensorflow/models.\n",
            "W0626 14:49:30.226850 140478912391040 deprecation.py:323] From /usr/local/lib/python3.6/dist-packages/tensorflow/contrib/learn/python/learn/datasets/mnist.py:260: maybe_download (from tensorflow.contrib.learn.python.learn.datasets.base) is deprecated and will be removed in a future version.\n",
            "Instructions for updating:\n",
            "Please write your own downloading logic.\n",
            "W0626 14:49:30.228033 140478912391040 deprecation.py:323] From /usr/local/lib/python3.6/dist-packages/tensorflow/contrib/learn/python/learn/datasets/mnist.py:262: extract_images (from tensorflow.contrib.learn.python.learn.datasets.mnist) is deprecated and will be removed in a future version.\n",
            "Instructions for updating:\n",
            "Please use tf.data to implement this functionality.\n"
          ],
          "name": "stderr"
        },
        {
          "output_type": "stream",
          "text": [
            "Extracting MNIST_data/train-images-idx3-ubyte.gz\n"
          ],
          "name": "stdout"
        },
        {
          "output_type": "stream",
          "text": [
            "W0626 14:49:30.519004 140478912391040 deprecation.py:323] From /usr/local/lib/python3.6/dist-packages/tensorflow/contrib/learn/python/learn/datasets/mnist.py:267: extract_labels (from tensorflow.contrib.learn.python.learn.datasets.mnist) is deprecated and will be removed in a future version.\n",
            "Instructions for updating:\n",
            "Please use tf.data to implement this functionality.\n",
            "W0626 14:49:30.572117 140478912391040 deprecation.py:323] From /usr/local/lib/python3.6/dist-packages/tensorflow/contrib/learn/python/learn/datasets/mnist.py:290: DataSet.__init__ (from tensorflow.contrib.learn.python.learn.datasets.mnist) is deprecated and will be removed in a future version.\n",
            "Instructions for updating:\n",
            "Please use alternatives such as official/mnist/dataset.py from tensorflow/models.\n"
          ],
          "name": "stderr"
        },
        {
          "output_type": "stream",
          "text": [
            "Extracting MNIST_data/train-labels-idx1-ubyte.gz\n",
            "Extracting MNIST_data/t10k-images-idx3-ubyte.gz\n",
            "Extracting MNIST_data/t10k-labels-idx1-ubyte.gz\n"
          ],
          "name": "stdout"
        }
      ]
    },
    {
      "cell_type": "markdown",
      "metadata": {
        "id": "jrhW2UDlodLZ",
        "colab_type": "text"
      },
      "source": [
        "#Der MNIST-Datensatz\n"
      ]
    },
    {
      "cell_type": "markdown",
      "metadata": {
        "id": "PHo7k8-RNOHe",
        "colab_type": "text"
      },
      "source": [
        "Die folgenden Befehle zeigen uns an, wie viele Bilder in \"x_train\" und \"x_test\" gespeichert sind:\n",
        "\n"
      ]
    },
    {
      "cell_type": "code",
      "metadata": {
        "id": "TCqQlHRRzrFv",
        "colab_type": "code",
        "colab": {}
      },
      "source": [
        "print(\"Anzahl der Trainingsdaten: \" + str(len(x_train)))\n",
        "print(\"Anzahl der Testdaten: \" + str(len(x_test)))"
      ],
      "execution_count": 0,
      "outputs": []
    },
    {
      "cell_type": "markdown",
      "metadata": {
        "id": "diC3dU6izyHj",
        "colab_type": "text"
      },
      "source": [
        "Jedes einzelne Bild besteht aus 28 x 28 Pixeln. \n",
        "\n",
        "Wir lassen uns das 90ste Bild anzeigen, indem wir x_train[89] aufrufen. (Die Zählung beginnt bei 0, d.h. x_train[0] ist das erste Bild.)\n",
        "\n",
        "Der Wert 0 steht hierbei für \"weiß\", der Wert 100 für \"schwarz\" und alle Werte dazwischen sind entsprechende Grautöne."
      ]
    },
    {
      "cell_type": "code",
      "metadata": {
        "id": "XllzcexezemN",
        "colab_type": "code",
        "colab": {}
      },
      "source": [
        "print(\"Ein Bild: \\n\" + str(x_train[89]))"
      ],
      "execution_count": 0,
      "outputs": []
    },
    {
      "cell_type": "markdown",
      "metadata": {
        "id": "3GyB08a80qvl",
        "colab_type": "text"
      },
      "source": [
        "Wir können uns das 28*28-Pixel-Bild mit folgendem Befehl zeigen lassen:"
      ]
    },
    {
      "cell_type": "code",
      "metadata": {
        "id": "1TemZZh709Ob",
        "colab_type": "code",
        "colab": {}
      },
      "source": [
        "plt.imshow(x_train[89], cmap='Greys')\n",
        "plt.show()"
      ],
      "execution_count": 0,
      "outputs": []
    },
    {
      "cell_type": "markdown",
      "metadata": {
        "id": "ughM1oig1NNl",
        "colab_type": "text"
      },
      "source": [
        "**Frage 1:**  Können Sie erraten, was der folgende Befehl macht, bevor Sie ihn ausführen?"
      ]
    },
    {
      "cell_type": "code",
      "metadata": {
        "id": "6e4fOseN1aOq",
        "colab_type": "code",
        "colab": {}
      },
      "source": [
        "plt.imshow(100-x_train[89], cmap='Greys')\n",
        "plt.show()"
      ],
      "execution_count": 0,
      "outputs": []
    },
    {
      "cell_type": "markdown",
      "metadata": {
        "id": "-tDM3PHKzey8",
        "colab_type": "text"
      },
      "source": [
        "\n",
        "Wir lassen uns 25 zufällige Bilder aus x_train anzeigen:"
      ]
    },
    {
      "cell_type": "code",
      "metadata": {
        "id": "b1agt6SijwYj",
        "colab_type": "code",
        "colab": {}
      },
      "source": [
        "for i in range(25):\n",
        "    ax = plt.subplot(5, 5, i+1)\n",
        "    ax.axis('off')\n",
        "    plt.imshow(x_train[randint(0, len(x_train))], cmap='Greys') \n",
        "plt.show()\n"
      ],
      "execution_count": 0,
      "outputs": []
    },
    {
      "cell_type": "markdown",
      "metadata": {
        "id": "HE_-gls01trs",
        "colab_type": "text"
      },
      "source": [
        "In \"y_train\" und \"y_test\" befinden sich die zu erlerndenden Werte, nämlich die entsprechenden Ziffern. Sie sehen, dass es gar nicht so einfach ist, die korrekte Ziffer zu erkennen. "
      ]
    },
    {
      "cell_type": "code",
      "metadata": {
        "id": "kDZqwDQm2AcY",
        "colab_type": "code",
        "colab": {}
      },
      "source": [
        "print(\"Trainingsbild Nr. 1: \")\n",
        "plt.imshow(x_train[8], cmap='Greys')\n",
        "plt.show()\n",
        "print(\"Ziffer von Bild Nr. 1: \" + str(y_train[8]))"
      ],
      "execution_count": 0,
      "outputs": []
    },
    {
      "cell_type": "markdown",
      "metadata": {
        "id": "c6qbYcCBWTpH",
        "colab_type": "text"
      },
      "source": [
        "Wir schauen uns auch das erste Bild aus den Testdaten an:"
      ]
    },
    {
      "cell_type": "code",
      "metadata": {
        "id": "3DJAO-nkNegl",
        "colab_type": "code",
        "colab": {}
      },
      "source": [
        "print(\"Testbild Nr. 1: \")\n",
        "plt.imshow(x_test[0], cmap='Greys')\n",
        "plt.show()\n",
        "print(\"Ziffer von Bild Nr. 1: \" + str(y_test[0]))"
      ],
      "execution_count": 0,
      "outputs": []
    },
    {
      "cell_type": "markdown",
      "metadata": {
        "id": "ZrUmZC9EQyWe",
        "colab_type": "text"
      },
      "source": [
        "**Frage 2:**  Können Sie erraten, was im folgenden Code berechnet wird, was also die Zahl z darstellt?"
      ]
    },
    {
      "cell_type": "code",
      "metadata": {
        "id": "1Bjpb7AyMBL3",
        "colab_type": "code",
        "colab": {}
      },
      "source": [
        "z = 0\n",
        "for k in range(55000):\n",
        "    if y_train[k] == 5:\n",
        "        z = z + 1\n",
        "print('z = ' + str(z))"
      ],
      "execution_count": 0,
      "outputs": []
    },
    {
      "cell_type": "markdown",
      "metadata": {
        "id": "M8swXWY4-l2b",
        "colab_type": "text"
      },
      "source": [
        "#Modell Nr. 1\n"
      ]
    },
    {
      "cell_type": "markdown",
      "metadata": {
        "id": "2ec4Qf-zW1Lp",
        "colab_type": "text"
      },
      "source": [
        "Die folgenden tensorflow-Befehle definieren ein neuronales Netz. Das KNN hat eine Input-Schicht, eine versteckte Schicht und eine Output-Schicht. Sie haben bereits das nötige Wissen, um alle Befehle nachvollziehen zu können!\n",
        "\n",
        "\n",
        "\n",
        "**Frage 3:**  Aktivieren Sie die nächste Zelle. In der Zusammenfassung wird die Anzahl der zu erlernenden Parameter (=Gewichte) aufgelistet. Insgesamt gibt es 25153 Gewichte. Können Sie diese Zahl selbst berechnen? (Wie viele Neuronen hat jede Schicht? Denken Sie an zusätzliche Bias-Neuronen.)\n"
      ]
    },
    {
      "cell_type": "code",
      "metadata": {
        "id": "Ik37_XKQ4Q8Y",
        "colab_type": "code",
        "colab": {}
      },
      "source": [
        "# Modell definieren\n",
        "model1 = Sequential()\n",
        "\n",
        "model1.add(Dense(units=32, activation='sigmoid', use_bias=True, input_shape=(784,)))\n",
        "model1.add(Dense(units=1, use_bias=True, activation='linear'))\n",
        "\n",
        "model1.summary()"
      ],
      "execution_count": 0,
      "outputs": []
    },
    {
      "cell_type": "markdown",
      "metadata": {
        "id": "4pTYFvazG7kg",
        "colab_type": "text"
      },
      "source": [
        "Wir trainieren nun unser KNN mittelse Gradientenverfahren und unserer üblichen Fehlerfunktion ('mean_squared_error').\n",
        "\n",
        "Die Anzahl der Iterationen wird mit `epochs=500` festgelegt.\n",
        "\n",
        "In jedem Schritt berechnen wir die Fehler nur für eine zufällig gewählte Menge von Daten.   Die Anzahl dieser Daten wird mit `batch_size=1000` festgelegt. (Das Optimierungsverfahren heißt aus diesem Grund \"stochastisches Gradientenverfahren\", was den Befehl  `optimizer=\"sgd\" ` erklärt.)\n",
        "\n",
        "In einer Graphik sehen wir die Prozentzahl der richtig zugeordneten Bilder, einmal für die Trainingsdaten, einmal für die Testdaten. Haben Sie für das Training etwas Geduld (5 Minuten bei `epochs = 500`?)"
      ]
    },
    {
      "cell_type": "code",
      "metadata": {
        "id": "hlCfqRD64w08",
        "colab_type": "code",
        "colab": {}
      },
      "source": [
        "# Modell trainieren\n",
        "Lernrate = 0.00001\n",
        "batch_size = 1000\n",
        "Anzahl_Iterationen = 10\n",
        "model1.compile(optimizer=keras.optimizers.SGD(lr=Lernrate), loss='mean_squared_error', metrics=['accuracy'])\n",
        "history = model1.fit(x_train.reshape(len(x_train),784), y_train, batch_size=batch_size, epochs=Anzahl_Iterationen, verbose=False, validation_data=(x_test.reshape(len(x_test),784), y_test))\n",
        "loss, accuracy  = model1.evaluate(x_test.reshape(len(x_test),784), y_test, verbose=False)\n",
        "\n",
        "# Ergbnis graphisch darstellen\n",
        "plt.figure(figsize=(7,7))\n",
        "plt.plot(history.history['acc'])\n",
        "plt.plot(history.history['val_acc'])\n",
        "plt.title('Modell-Genauigkeit')\n",
        "plt.ylabel('Genauigkeit')\n",
        "plt.xlabel('Iteration')\n",
        "plt.legend(['Trainingsdaten', 'Testdaten'], loc='best')\n",
        "plt.show()\n",
        "\n",
        "print(f'Fehler bei den Testdaten: {loss:.3}')\n",
        "print(f'Genauigkeit bei den Testdaten: {accuracy:.3}')\n"
      ],
      "execution_count": 0,
      "outputs": []
    },
    {
      "cell_type": "markdown",
      "metadata": {
        "id": "LOm-NcCnSAJw",
        "colab_type": "text"
      },
      "source": [
        "**Frage 4:**  Verändern Sie in der folgenden Zelle Modell 1 (Anzahl der Schichten, Neuronen, Lernrate, ...), um (in angemessener Zeit) ein besseres Ergebnis als das obige zu erzielen."
      ]
    },
    {
      "cell_type": "code",
      "metadata": {
        "id": "OnAHVzG-R4PF",
        "colab_type": "code",
        "colab": {}
      },
      "source": [
        "# Modell definieren\n",
        "model1 = Sequential()\n",
        "\n",
        "model1.add(Dense(units=32, activation='sigmoid', use_bias=True, input_shape=(784,)))\n",
        "model1.add(Dense(units=1, use_bias=True, activation='linear'))\n",
        "\n",
        "model1.summary()\n",
        "\n",
        "\n",
        "# Modell trainieren\n",
        "Lernrate = 0.00001\n",
        "batch_size = 1000\n",
        "Anzahl_Iterationen = 10\n",
        "model1.compile(optimizer=keras.optimizers.SGD(lr=Lernrate), loss='mean_squared_error', metrics=['accuracy'])\n",
        "# verbose=0: kein Output des Lernfortschritts, verbose=1: Output des Lernfortschritts\n",
        "history = model1.fit(x_train.reshape(len(x_train),784), y_train, batch_size=batch_size, epochs=Anzahl_Iterationen, verbose=0, validation_data=(x_test.reshape(len(x_test),784), y_test))\n",
        "\n",
        "\n",
        "# Ergbnis graphisch darstellen\n",
        "plt.figure(figsize=(7,7))\n",
        "plt.plot(history.history['acc'])\n",
        "plt.plot(history.history['val_acc'])\n",
        "plt.title('Modell-Genauigkeit')\n",
        "plt.ylabel('Genauigkeit')\n",
        "plt.xlabel('Iteration')\n",
        "plt.legend(['Trainingsdaten', 'Testdaten'], loc='best')\n",
        "plt.show()\n",
        "loss, accuracy  = model1.evaluate(x_test.reshape(len(x_test),784), y_test, verbose=False)\n",
        "print(f'Fehler bei den Testdaten: {loss:.3}')\n",
        "print(f'Genauigkeit bei den Testdaten: {accuracy:.3}')"
      ],
      "execution_count": 0,
      "outputs": []
    },
    {
      "cell_type": "markdown",
      "metadata": {
        "id": "Cjx1zoTt_eAN",
        "colab_type": "text"
      },
      "source": [
        "Wir testen Modell 1 an einem Beispielbild: "
      ]
    },
    {
      "cell_type": "code",
      "metadata": {
        "id": "AT-5bI1i_ddr",
        "colab_type": "code",
        "colab": {}
      },
      "source": [
        "Bild_nummer = 6990\n",
        "print(\"Bild Nr. \" + str(Bild_nummer) + \": \")\n",
        "plt.imshow(x_train[Bild_nummer], cmap='Greys')\n",
        "plt.show()\n",
        "print(\"Ziffer von Bild Nr. \" + str(Bild_nummer) + \": \" + str(y_train[Bild_nummer]))\n",
        "Vorhersage = model1.predict(x_train[Bild_nummer].reshape(1, 784))[0]\n",
        "print(\"Vorhersage für Bild Nr. \" + str(Bild_nummer) + \": \" + str(Vorhersage[0]))"
      ],
      "execution_count": 0,
      "outputs": []
    },
    {
      "cell_type": "markdown",
      "metadata": {
        "id": "SvBnHTzNH3pL",
        "colab_type": "text"
      },
      "source": [
        "**Frage 5:** Wenn jedes Gewicht im KNN 32-Bit Speicherplatz benötigt, wie viele MB Speicherplatz benötigt dann in etwa Ihr KNN von Modell 1?\n"
      ]
    },
    {
      "cell_type": "markdown",
      "metadata": {
        "id": "fbvPDsvF_JPf",
        "colab_type": "text"
      },
      "source": [
        "#Modell Nr. 2"
      ]
    },
    {
      "cell_type": "markdown",
      "metadata": {
        "id": "ZlbA_21mPOzz",
        "colab_type": "text"
      },
      "source": [
        "Modell Nr. 1 besitzt folgendes Problem: Wird eine 4 fälschlicherweise als 5 vorhergesagt, beträgt der Fehler nur 1. Wird die 0 fälschlicherweise als 9 vorhergesagt, beträgt der Fehler 9. Also wird das KNN eher lernen, die kleinen von den großen Ziffern zu unterscheiden. Wir sollten also unsere Fehler-Funktion anpassen.\n",
        "\n",
        "Hierzu verwenden wir eine andere Darstellung der Daten y_train und y_test, die in y_train_hot und y_test_hot gespeichert wurden. Eine Ziffer wird nun als 10-Vektor dargestellt. Hierbei entspricht die 0 dem Vektor [1,0,0,0,0,0,0,0,0,0], die 1 entspricht dem Vektor [0,1,0,0,0,0,0,0,0,0], usw. Diese Darstellung nennt man auch die 'One-Hot-Kodierung'.\n",
        "\n",
        "An einem Beispiel sehen wir, wie die Ziffern nun dargestellt werden:\n"
      ]
    },
    {
      "cell_type": "code",
      "metadata": {
        "id": "0tfjDuDaPN0J",
        "colab_type": "code",
        "colab": {}
      },
      "source": [
        "print(\"Bild Nr. 1: \")\n",
        "plt.imshow(x_train[0], cmap='Greys')\n",
        "plt.show()\n",
        "print(\"Ziffer von Bild Nr. 1 in y_train : \" + str(y_train[0]))\n",
        "\n",
        "print(\"Ziffer von Bild Nr. 1 in y_train2: \" + str(y_train_hot[0]))"
      ],
      "execution_count": 0,
      "outputs": []
    },
    {
      "cell_type": "markdown",
      "metadata": {
        "id": "yozQap2cQd9L",
        "colab_type": "text"
      },
      "source": [
        "Wir konstruieren nun ein KNN mit 10 Output-Neuronen o_0, ...., o_9. Erhalten wir z.B. den Output [0.1, 0, 0, 0, 0, 0.99, 0, 0, 0, 0], so interpretieren wir dies als Vorhersage für die Ziffer 5.\n",
        "\n",
        "Wählen wir nun die Fehler-Funktion 'mean_squared_error', so berechnet sich der Fehler zwischen [a0, a1, a2, a3, a4, a5, a6, a7, a8, a9] und [b0, b1, b2, b3, b4, b5, b6, b7, b8, b9] als (a1-b1)^2 + ... + (a9-b9)^2. \n",
        "\n",
        "Der Fehler zwischen 4 und 5, also zwischen [0, 0, 0, 0, 1, 0, 0, 0, 0, 0] und [0, 0, 0, 0, 0, 1, 0, 0, 0, 0] ist also derselbe wie zwischen 0 und 9, also zwischen  [1, 0, 0, 0, 0, 0, 0, 0, 0, 0] und [0, 0, 0, 0, 0, 0, 0, 0, 0, 1]. (Der Fehler beträgt 2 in beiden Fällen)\n",
        "\n"
      ]
    },
    {
      "cell_type": "markdown",
      "metadata": {
        "id": "cdPMhHTMRoGv",
        "colab_type": "text"
      },
      "source": [
        "**Frage 6:** Verändern Sie die übrigen Parameter (Schichten, Lernrate, etc.) in der nächsten Zelle, so dass sie Ihrem Modell 1 entsprechen und lassen Sie Modell 2 trainieren. Wie hat sich die Genauigkeit verändert?"
      ]
    },
    {
      "cell_type": "code",
      "metadata": {
        "id": "hGZhNcai8TOV",
        "colab_type": "code",
        "colab": {}
      },
      "source": [
        "# Modell definieren\n",
        "model2 = Sequential()\n",
        "\n",
        "model2.add(Dense(units=32, activation='sigmoid', use_bias=True, input_shape=(784,)))\n",
        "model2.add(Dense(units=10, use_bias=True, activation='linear'))\n",
        "\n",
        "model2.summary()\n",
        "\n",
        "# Modell trainieren\n",
        "\n",
        "Lernrate = 0.00001\n",
        "batch_size = 1000\n",
        "Anzahl_Iterationen = 10\n",
        "model2.compile(optimizer=keras.optimizers.SGD(lr=Lernrate), loss='mean_squared_error', metrics=['accuracy'])\n",
        "history = model2.fit(x_train.reshape(len(x_train),784), y_train_hot, batch_size=batch_size, epochs=Anzahl_Iterationen, verbose=False, validation_data=(x_test.reshape(len(x_test),784), y_test_hot))\n",
        "\n",
        "\n",
        "# Ergbnis graphisch darstellen\n",
        "\n",
        "plt.figure(figsize=(7,7))\n",
        "plt.plot(history.history['acc'])\n",
        "plt.plot(history.history['val_acc'])\n",
        "plt.title('Modell-Genauigkeit')\n",
        "plt.ylabel('Genauigkeit')\n",
        "plt.xlabel('Iteration')\n",
        "plt.legend(['Trainingsdaten', 'Testdaten'], loc='best')\n",
        "plt.show()\n",
        "loss, accuracy  = model2.evaluate(x_test.reshape(len(x_test),784), y_test_hot, verbose=False)\n",
        "print(f'Fehler bei den Testdaten: {loss:.3}')\n",
        "print(f'Genauigkeit bei den Testdaten: {accuracy:.3}')\n"
      ],
      "execution_count": 0,
      "outputs": []
    },
    {
      "cell_type": "markdown",
      "metadata": {
        "id": "7MTulVQLLGq2",
        "colab_type": "text"
      },
      "source": [
        "#Modell Nr. 3"
      ]
    },
    {
      "cell_type": "markdown",
      "metadata": {
        "id": "n3fd2DBNUYx3",
        "colab_type": "text"
      },
      "source": [
        "Wir machen erneut denselben Ansatz wie in Modell 2 und führen noch zwei Änderungen ein:\n",
        "\n",
        "\n",
        "\n",
        "1.   Wir ändern die Output-Aktivierungsfunktion von 'linear' zu 'softmax'. Damit ist jeder Wert eines Output-Neurons zwischen 0 und 1 und die Summe der Werte der 10 Output-Neuronen ergibt stets 1. Die exakte Formel finden Sie hier: https://de.wikipedia.org/wiki/Softmax-Funktion Nun können wir eine Ausgabe wie z.B. [0.2, 0.1, 0, 0, 0, 0, 0, 0, 0, 0.7] als Wahrscheinlichkeiten interpretieren, d.h. das KNN sagt die Ziffer 9 mit Wahrscheinlichkeit 70% voraus, die Ziffer 0 mit Wahr. 20%, die Ziffer 1 mit Wahr. 10%.\n",
        "\n",
        "\n",
        "2.   Wir verändern zudem noch die Fehlerfunktion und wählen 'categorical_crossentropy', d.h. die sogenannte Kreuzentropie. Diese Funktion eignet sich besser bei diskreten Werten mit softmax (Klassifikation) im Vergleich zu kontinuierlichen, siehe https://de.wikipedia.org/wiki/Kreuzentropie. Angenommen, ein Bild mit Ziffer 1, also [0,1,0,0,0,0,0,0,0,0] wird klassifiziert als [0.1,0.1,0.1,0.1,0.1,0.1,0.1,0.1,0.1,0.1]. Dann berechnet sich der Fehler bezüglich der Kreuzentropie als  -(0 * log(0.1) + 1 * log(0.1) + 0 * log(0.1) + ... + 0 * log(0.1)) = - log(0.1) = 2.30259...\n",
        "\n",
        "\n",
        "\n",
        "\n",
        "\n"
      ]
    },
    {
      "cell_type": "markdown",
      "metadata": {
        "id": "RcsQmaaOCtJE",
        "colab_type": "text"
      },
      "source": [
        "In Modell 3 finden Sie nun die Aktivierungsfunktion 'softmax' und die Fehlerfunktion 'categorical_crossentropy'. \n",
        "\n",
        "**Frage 7:**  Können Sie die übrigen Parameter in Modell 3 so anpassen, dass Sie eine Genauigkeit von mind. 90% erreichen? "
      ]
    },
    {
      "cell_type": "code",
      "metadata": {
        "id": "UMv9OdyhUNih",
        "colab_type": "code",
        "colab": {}
      },
      "source": [
        "# Modell definieren\n",
        "model3 = Sequential()\n",
        "\n",
        "model3.add(Dense(units=32, activation='sigmoid', use_bias=True, input_shape=(784,)))\n",
        "model3.add(Dense(units=10, use_bias=True, activation='softmax'))\n",
        "\n",
        "model3.summary()\n",
        "\n",
        "# Modell trainieren\n",
        "Lernrate = 0.001\n",
        "batch_size = 1000\n",
        "Anzahl_Iterationen = 10\n",
        "model3.compile(optimizer=keras.optimizers.SGD(lr=Lernrate), loss='categorical_crossentropy', metrics=['accuracy'])\n",
        "history = model3.fit(x_train.reshape(len(x_train),784), y_train_hot, batch_size=batch_size, epochs=Anzahl_Iterationen, verbose=False,  validation_data=(x_test.reshape(len(x_test),784), y_test_hot))\n",
        "\n",
        "\n",
        "# Ergbnis graphisch darstellen\n",
        "plt.figure(figsize=(7,7))\n",
        "plt.plot(history.history['acc'])\n",
        "plt.plot(history.history['val_acc'])\n",
        "plt.title('Modell-Genauigkeit')\n",
        "plt.ylabel('Genauigkeit')\n",
        "plt.xlabel('Iteration')\n",
        "plt.legend(['Trainingsdaten', 'Testdaten'], loc='best')\n",
        "plt.show()\n",
        "loss, accuracy  = model3.evaluate(x_test.reshape(len(x_test),784), y_test_hot, verbose=False)\n",
        "print(f'Fehler bei den Testdaten: {loss:.3}')\n",
        "print(f'Genauigkeit bei den Testdaten: {accuracy:.3}')\n"
      ],
      "execution_count": 0,
      "outputs": []
    },
    {
      "cell_type": "markdown",
      "metadata": {
        "id": "AzIWF5R1_v2q",
        "colab_type": "text"
      },
      "source": [
        "Sie können das Modell wieder an einzelnen Bildern testen:"
      ]
    },
    {
      "cell_type": "code",
      "metadata": {
        "id": "AUnz6TysYiUU",
        "colab_type": "code",
        "colab": {}
      },
      "source": [
        "Bild_nummer = 690\n",
        "print(\"Bild Nr. \" + str(Bild_nummer) + \": \")\n",
        "plt.imshow(x_train[Bild_nummer], cmap='Greys')\n",
        "plt.show()\n",
        "print(\"Ziffer von Bild Nr. \" + str(Bild_nummer) + \": \" + str(y_train[Bild_nummer]))\n",
        "Vorhersage = model3.predict(x_train[Bild_nummer].reshape(1, 784))[0]\n",
        "print(\"Vorhersage für Bild Nr. \" + str(Bild_nummer) + \": \" + str(np.argmax(Vorhersage)) + \" (mit Wahrscheinlichkeit \" + \"{0:0.2f}\".format(100*Vorhersage[np.argmax(Vorhersage)])  + \"%)\")\n",
        "print(\"\\nWahrscheinlichkeiten: \" + str(Vorhersage))"
      ],
      "execution_count": 0,
      "outputs": []
    },
    {
      "cell_type": "markdown",
      "metadata": {
        "id": "ZvQEr-YT-ikg",
        "colab_type": "text"
      },
      "source": [
        "Sie können nun ein eigenes Bild hochladen. Es wird in das Format 28 x 28 und in Grauwerte umgewandelt. Danach wird das Bild dem trainierten Modell 3 übergeben und wir sehen, welche Ziffer das KNN im Bild sieht."
      ]
    },
    {
      "cell_type": "code",
      "metadata": {
        "id": "XGfuPDXR-hgB",
        "colab_type": "code",
        "colab": {}
      },
      "source": [
        "from google.colab import files\n",
        "from keras.preprocessing import image\n",
        "uploaded = files.upload()\n",
        "\n",
        "for fn in uploaded.keys():\n",
        "  print('User uploaded file \"{name}\" with length {length} bytes'.format(\n",
        "      name=fn, length=len(uploaded[fn])))\n",
        "img_show = image.load_img(fn, target_size=(288, 288))\n",
        "img = image.load_img(fn, target_size=(28, 28))\n",
        "plt.figure(figsize=(5, 5))\n",
        "plt.imshow(img_show, interpolation='nearest')\n",
        "plt.axis('off')\n",
        "plt.show()\n",
        "\n",
        "from keras.preprocessing.image import save_img\n",
        "# save the image with a new filename\n",
        "save_img('test_picture.jpg', img)\n",
        "import cv2\n",
        "# Load in Grayscale\n",
        "gray = cv2.imread('./test_picture.jpg', 0)\n",
        "plt.figure(figsize=(5, 5))\n",
        "plt.imshow(gray, cmap=plt.get_cmap('gray'), vmin=0, vmax=255)\n",
        "plt.show()\n",
        "Vorhersage = model3.predict(gray.reshape(1, 784))[0]\n",
        "print(\"Vorhersage der Ziffer: \"  + str(np.argmax(Vorhersage)))\n",
        "print(\"Wahrscheinlichkeiten: \" + str(Vorhersage))"
      ],
      "execution_count": 0,
      "outputs": []
    },
    {
      "cell_type": "markdown",
      "metadata": {
        "id": "-9d-dijzLQ2k",
        "colab_type": "text"
      },
      "source": [
        "#Modell Nr. 4 (für Fortgeschrittene)\n",
        "\n",
        "Sie kennen bereits den Befehl\n",
        "\n",
        "`model.add(Dense(units=1, activation='sigmoid', use_bias=True, input_shape=(2,)))`,\n",
        "\n",
        "der einem neuronalen Netz einfach eine weitere Schicht hinzufügt. Dabei werden alle Neuronen mit allen Neuronen der Vorgänger-Schicht verknüpft. Das ist nicht immer sinnvoll und es gibt speziellere Schichten, teilweise mit anderen Funktionen als die bisher behandelten, teilweise mit weniger Verknüpfungen zur Vorgänger-Schicht.\n",
        "\n",
        "Recherchieren Sie die Bedeutung der folgenden Befehle, konstruieren Sie Ihr eigenes Netz, trainieren Sie es und versuchen Sie eine möglichst gute Genauigkeit zu erzielen.\n",
        "\n",
        "`model.add(Conv2D(32, kernel_size=(3, 3), activation='relu', input_shape=(28, 28, 1)))`\n",
        "\n",
        "`model.add(MaxPooling2D(pool_size=(2, 2)))`\n",
        "\n",
        "`model.add(Dropout(0.25))`\n",
        "\n",
        "`model.add(Flatten())`\n",
        "\n",
        "\n",
        "\n",
        "\n",
        "\n",
        "\n"
      ]
    },
    {
      "cell_type": "code",
      "metadata": {
        "id": "9pQRKzlyKlDU",
        "colab_type": "code",
        "colab": {}
      },
      "source": [
        "# Modell definieren\n",
        "model4 = Sequential()\n",
        "\n",
        "model4.add(Conv2D(32, kernel_size=(3, 3),  activation='relu', input_shape=(28, 28, 1)))\n",
        "model4.add(MaxPooling2D(pool_size=(2, 2)))\n",
        "model4.add(Dropout(0.25))\n",
        "model4.add(Flatten())\n",
        "model4.add(Dense(10, activation='softmax'))\n",
        "\n",
        "model4.summary()\n",
        "\n",
        "\n",
        "# Modell trainieren\n",
        "Lernrate = 0.0001\n",
        "batch_size = 500\n",
        "Anzahl_Iterationen = 4\n",
        "# Wir verwenden eine verbesserte Variante des Gradientenverfahren, nämlich \"Adadelta\".\n",
        "# Alte Variante: model4.compile(optimizer=keras.optimizers.SGD(lr=Lernrate), loss='categorical_crossentropy', metrics=['accuracy'])\n",
        "model4.compile(loss=keras.losses.categorical_crossentropy, optimizer=keras.optimizers.Adadelta(), metrics=['accuracy'])\n",
        "history = model4.fit(x_train.reshape(x_train.shape[0], 28, 28, 1), y_train_hot, batch_size=batch_size, epochs=Anzahl_Iterationen, verbose=False, validation_data=(x_test.reshape(x_test.shape[0], 28, 28, 1), y_test_hot))\n",
        "\n",
        "# Ergbnis graphisch darstellen\n",
        "plt.figure(figsize=(7,7))\n",
        "plt.plot(history.history['acc'])\n",
        "plt.plot(history.history['val_acc'])\n",
        "plt.title('Modell-Genauigkeit')\n",
        "plt.ylabel('Genauigkeit')\n",
        "plt.xlabel('Iteration')\n",
        "plt.legend(['Trainingsdaten', 'Testdaten'], loc='best')\n",
        "plt.show()\n",
        "loss, accuracy  = model4.evaluate(x_test.reshape(x_test.shape[0], 28, 28, 1), y_test_hot, verbose=False)\n",
        "print(f'Fehler bei den Testdaten: {loss:.3}')\n",
        "print(f'Genauigkeit bei den Testdaten: {accuracy:.3}')"
      ],
      "execution_count": 0,
      "outputs": []
    }
  ]
}