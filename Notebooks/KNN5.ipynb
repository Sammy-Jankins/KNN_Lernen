{
  "nbformat": 4,
  "nbformat_minor": 0,
  "metadata": {
    "colab": {
      "name": "KNN5.ipynb",
      "version": "0.3.2",
      "provenance": [],
      "collapsed_sections": []
    },
    "kernelspec": {
      "name": "python3",
      "display_name": "Python 3"
    },
    "accelerator": "GPU"
  },
  "cells": [
    {
      "cell_type": "markdown",
      "metadata": {
        "id": "Ujj__DRWYMGG",
        "colab_type": "text"
      },
      "source": [
        "#Notebook KNN5: Fake-Bilder (Generative Adversarial Network)\n",
        "\n",
        "In diesem Notebook lassen wir wieder ein neuronales Netz (den Diskriminator) den MNIST-Datensatz erlernen. Zudem wird im Lernprozess ein zweites neuronales Netz (der Generator) versuchen, das erste Netz mit \"Fake-Bildern\" zu täuschen.\n",
        "\n",
        "Dieses Modell heißt GAN (='Generative Adversarial Network' ‚ also ein generatives gegnerisches Netzwerk). \n",
        "\n",
        "\n",
        "Als Ergebnis erhält man so neue Bilder von handgeschriebenen Ziffern, die künstlich produziert wurden:\n",
        "\n",
        "\n",
        "<center><img src='https://ifm.mathematik.uni-wuerzburg.de/~schleissinger/fake_digits.png' width=\"30%\" height=\"30%\"></center>\n",
        "\n",
        "\n",
        "Der Code stammt vollständig von https://github.com/znxlwm/tensorflow-MNIST-GAN-DCGAN. \n",
        "Wir verwenden das dort beschriebene DCGAN-Modell (deep convolutional GAN).\n",
        "\n",
        "\n",
        "Diese Notebook ist technisch anspruchsvoller. Besuchen Sie die Seite https://github.com/znxlwm/tensorflow-MNIST-GAN-DCGAN und versuchen Sie, das DCGAN-Modell zu verstehen."
      ]
    },
    {
      "cell_type": "code",
      "metadata": {
        "id": "wwqF4CPXrZRb",
        "colab_type": "code",
        "colab": {}
      },
      "source": [
        "import os, time, itertools, imageio, pickle\n",
        "import numpy as np\n",
        "import matplotlib.pyplot as plt\n",
        "import tensorflow as tf\n",
        "from tensorflow.examples.tutorials.mnist import input_data"
      ],
      "execution_count": 0,
      "outputs": []
    },
    {
      "cell_type": "code",
      "metadata": {
        "id": "DFaMsL67XtPi",
        "colab_type": "code",
        "colab": {}
      },
      "source": [
        "def lrelu(x, th=0.2):\n",
        "    return tf.maximum(th * x, x)\n",
        "\n",
        "# G(z)\n",
        "def generator(x, isTrain=True, reuse=False):\n",
        "    with tf.variable_scope('generator', reuse=reuse):\n",
        "\n",
        "        # 1st hidden layer\n",
        "        conv1 = tf.layers.conv2d_transpose(x, 1024, [4, 4], strides=(1, 1), padding='valid')\n",
        "        lrelu1 = lrelu(tf.layers.batch_normalization(conv1, training=isTrain), 0.2)\n",
        "\n",
        "        # 2nd hidden layer\n",
        "        conv2 = tf.layers.conv2d_transpose(lrelu1, 512, [4, 4], strides=(2, 2), padding='same')\n",
        "        lrelu2 = lrelu(tf.layers.batch_normalization(conv2, training=isTrain), 0.2)\n",
        "\n",
        "        # 3rd hidden layer\n",
        "        conv3 = tf.layers.conv2d_transpose(lrelu2, 256, [4, 4], strides=(2, 2), padding='same')\n",
        "        lrelu3 = lrelu(tf.layers.batch_normalization(conv3, training=isTrain), 0.2)\n",
        "\n",
        "        # 4th hidden layer\n",
        "        conv4 = tf.layers.conv2d_transpose(lrelu3, 128, [4, 4], strides=(2, 2), padding='same')\n",
        "        lrelu4 = lrelu(tf.layers.batch_normalization(conv4, training=isTrain), 0.2)\n",
        "\n",
        "        # output layer\n",
        "        conv5 = tf.layers.conv2d_transpose(lrelu4, 1, [4, 4], strides=(2, 2), padding='same')\n",
        "        o = tf.nn.tanh(conv5)\n",
        "\n",
        "    return o\n",
        "  \n",
        "# D(x)\n",
        "def discriminator(x, isTrain=True, reuse=False):\n",
        "    with tf.variable_scope('discriminator', reuse=reuse):\n",
        "        # 1st hidden layer\n",
        "        conv1 = tf.layers.conv2d(x, 128, [4, 4], strides=(2, 2), padding='same')\n",
        "        lrelu1 = lrelu(conv1, 0.2)\n",
        "\n",
        "        # 2nd hidden layer\n",
        "        conv2 = tf.layers.conv2d(lrelu1, 256, [4, 4], strides=(2, 2), padding='same')\n",
        "        lrelu2 = lrelu(tf.layers.batch_normalization(conv2, training=isTrain), 0.2)\n",
        "\n",
        "        # 3rd hidden layer\n",
        "        conv3 = tf.layers.conv2d(lrelu2, 512, [4, 4], strides=(2, 2), padding='same')\n",
        "        lrelu3 = lrelu(tf.layers.batch_normalization(conv3, training=isTrain), 0.2)\n",
        "\n",
        "        # 4th hidden layer\n",
        "        conv4 = tf.layers.conv2d(lrelu3, 1024, [4, 4], strides=(2, 2), padding='same')\n",
        "        lrelu4 = lrelu(tf.layers.batch_normalization(conv4, training=isTrain), 0.2)\n",
        "\n",
        "        # output layer\n",
        "        conv5 = tf.layers.conv2d(lrelu4, 1, [4, 4], strides=(1, 1), padding='valid')\n",
        "        o = tf.nn.sigmoid(conv5)\n",
        "\n",
        "    return o, conv5\n",
        "  \n",
        "def show_result(num_epoch, show = False, save = False, path = 'result.png'):\n",
        "    test_images = sess.run(G_z, {z: fixed_z_, isTrain: False})\n",
        "\n",
        "    size_figure_grid = 5\n",
        "    fig, ax = plt.subplots(size_figure_grid, size_figure_grid, figsize=(7, 7))\n",
        "    for i, j in itertools.product(range(size_figure_grid), range(size_figure_grid)):\n",
        "        ax[i, j].get_xaxis().set_visible(False)\n",
        "        ax[i, j].get_yaxis().set_visible(False)\n",
        "\n",
        "    for k in range(size_figure_grid*size_figure_grid):\n",
        "        i = k // size_figure_grid\n",
        "        j = k % size_figure_grid\n",
        "        ax[i, j].cla()\n",
        "        ax[i, j].imshow(np.reshape(test_images[k], (64, 64)), cmap='gray')\n",
        "\n",
        "    label = 'Epoch {0}'.format(num_epoch)\n",
        "    fig.text(0.5, 0.04, label, ha='center')\n",
        "\n",
        "    if save:\n",
        "        plt.savefig(path)\n",
        "\n",
        "    if show:\n",
        "        plt.show()\n",
        "    else:\n",
        "        plt.close()\n",
        "      \n",
        "      \n",
        "fixed_z_ = np.random.normal(0, 1, (25, 1, 1, 100))\n",
        "      \n",
        "        \n",
        "def show_train_hist(hist, show = False, save = False, path = 'Train_hist.png'):\n",
        "    x = range(len(hist['D_losses']))\n",
        "\n",
        "    y1 = hist['D_losses']\n",
        "    y2 = hist['G_losses']\n",
        "\n",
        "    plt.plot(x, y1, label='D_loss')\n",
        "    plt.plot(x, y2, label='G_loss')\n",
        "\n",
        "    plt.xlabel('Epoch')\n",
        "    plt.ylabel('Loss')\n",
        "\n",
        "    plt.legend(loc=4)\n",
        "    plt.grid(True)\n",
        "    plt.tight_layout()\n",
        "\n",
        "    if save:\n",
        "        plt.savefig(path)\n",
        "\n",
        "    if show:\n",
        "        plt.show()\n",
        "    else:\n",
        "        plt.close()\n",
        "        "
      ],
      "execution_count": 0,
      "outputs": []
    },
    {
      "cell_type": "code",
      "metadata": {
        "id": "09vIXVvKZ-xI",
        "colab_type": "code",
        "outputId": "00b80d80-7f8a-489a-a685-01301908c082",
        "colab": {
          "base_uri": "https://localhost:8080/",
          "height": 459
        }
      },
      "source": [
        "# training parameters\n",
        "batch_size = 100\n",
        "lr = 0.0002\n",
        "train_epoch = 10\n",
        "\n",
        "# load MNIST\n",
        "mnist = input_data.read_data_sets(\"MNIST_data/\", one_hot=True, reshape=[])"
      ],
      "execution_count": 0,
      "outputs": [
        {
          "output_type": "stream",
          "text": [
            "WARNING: Logging before flag parsing goes to stderr.\n",
            "W0704 22:20:37.258051 139997100132224 deprecation.py:323] From <ipython-input-5-4429fde27968>:6: read_data_sets (from tensorflow.contrib.learn.python.learn.datasets.mnist) is deprecated and will be removed in a future version.\n",
            "Instructions for updating:\n",
            "Please use alternatives such as official/mnist/dataset.py from tensorflow/models.\n",
            "W0704 22:20:37.260458 139997100132224 deprecation.py:323] From /usr/local/lib/python3.6/dist-packages/tensorflow/contrib/learn/python/learn/datasets/mnist.py:260: maybe_download (from tensorflow.contrib.learn.python.learn.datasets.base) is deprecated and will be removed in a future version.\n",
            "Instructions for updating:\n",
            "Please write your own downloading logic.\n",
            "W0704 22:20:37.262934 139997100132224 deprecation.py:323] From /usr/local/lib/python3.6/dist-packages/tensorflow/contrib/learn/python/learn/datasets/mnist.py:262: extract_images (from tensorflow.contrib.learn.python.learn.datasets.mnist) is deprecated and will be removed in a future version.\n",
            "Instructions for updating:\n",
            "Please use tf.data to implement this functionality.\n"
          ],
          "name": "stderr"
        },
        {
          "output_type": "stream",
          "text": [
            "Extracting MNIST_data/train-images-idx3-ubyte.gz\n"
          ],
          "name": "stdout"
        },
        {
          "output_type": "stream",
          "text": [
            "W0704 22:20:37.582512 139997100132224 deprecation.py:323] From /usr/local/lib/python3.6/dist-packages/tensorflow/contrib/learn/python/learn/datasets/mnist.py:267: extract_labels (from tensorflow.contrib.learn.python.learn.datasets.mnist) is deprecated and will be removed in a future version.\n",
            "Instructions for updating:\n",
            "Please use tf.data to implement this functionality.\n",
            "W0704 22:20:37.584725 139997100132224 deprecation.py:323] From /usr/local/lib/python3.6/dist-packages/tensorflow/contrib/learn/python/learn/datasets/mnist.py:110: dense_to_one_hot (from tensorflow.contrib.learn.python.learn.datasets.mnist) is deprecated and will be removed in a future version.\n",
            "Instructions for updating:\n",
            "Please use tf.one_hot on tensors.\n",
            "W0704 22:20:37.645292 139997100132224 deprecation.py:323] From /usr/local/lib/python3.6/dist-packages/tensorflow/contrib/learn/python/learn/datasets/mnist.py:290: DataSet.__init__ (from tensorflow.contrib.learn.python.learn.datasets.mnist) is deprecated and will be removed in a future version.\n",
            "Instructions for updating:\n",
            "Please use alternatives such as official/mnist/dataset.py from tensorflow/models.\n"
          ],
          "name": "stderr"
        },
        {
          "output_type": "stream",
          "text": [
            "Extracting MNIST_data/train-labels-idx1-ubyte.gz\n",
            "Extracting MNIST_data/t10k-images-idx3-ubyte.gz\n",
            "Extracting MNIST_data/t10k-labels-idx1-ubyte.gz\n"
          ],
          "name": "stdout"
        }
      ]
    },
    {
      "cell_type": "code",
      "metadata": {
        "id": "J2YnmpQvaAG1",
        "colab_type": "code",
        "outputId": "f61e97a9-6e3b-4e5a-f82f-c078f47f57fc",
        "colab": {
          "base_uri": "https://localhost:8080/",
          "height": 313
        }
      },
      "source": [
        "# variables : input\n",
        "x = tf.placeholder(tf.float32, shape=(None, 64, 64, 1))\n",
        "z = tf.placeholder(tf.float32, shape=(None, 1, 1, 100))\n",
        "isTrain = tf.placeholder(dtype=tf.bool)\n",
        "\n",
        "# networks : generator\n",
        "G_z = generator(z, isTrain)\n",
        "\n",
        "# networks : discriminator\n",
        "D_real, D_real_logits = discriminator(x, isTrain)\n",
        "D_fake, D_fake_logits = discriminator(G_z, isTrain, reuse=True)\n",
        "\n",
        "# loss for each network\n",
        "D_loss_real = tf.reduce_mean(tf.nn.sigmoid_cross_entropy_with_logits(logits=D_real_logits, labels=tf.ones([batch_size, 1, 1, 1])))\n",
        "D_loss_fake = tf.reduce_mean(tf.nn.sigmoid_cross_entropy_with_logits(logits=D_fake_logits, labels=tf.zeros([batch_size, 1, 1, 1])))\n",
        "D_loss = D_loss_real + D_loss_fake\n",
        "G_loss = tf.reduce_mean(tf.nn.sigmoid_cross_entropy_with_logits(logits=D_fake_logits, labels=tf.ones([batch_size, 1, 1, 1])))\n",
        "\n",
        "# trainable variables for each network\n",
        "T_vars = tf.trainable_variables()\n",
        "D_vars = [var for var in T_vars if var.name.startswith('discriminator')]\n",
        "G_vars = [var for var in T_vars if var.name.startswith('generator')]\n",
        "\n",
        "# optimizer for each network\n",
        "with tf.control_dependencies(tf.get_collection(tf.GraphKeys.UPDATE_OPS)):\n",
        "    D_optim = tf.train.AdamOptimizer(lr, beta1=0.5).minimize(D_loss, var_list=D_vars)\n",
        "    G_optim = tf.train.AdamOptimizer(lr, beta1=0.5).minimize(G_loss, var_list=G_vars)\n",
        "\n",
        "# open session and initialize all variables\n",
        "sess = tf.InteractiveSession()\n",
        "tf.global_variables_initializer().run()\n",
        "\n",
        "# MNIST resize and normalization\n",
        "train_set = tf.image.resize_images(mnist.train.images, [64, 64]).eval()\n",
        "train_set = (train_set - 0.5) / 0.5 # normalization; range: -1 ~ 1"
      ],
      "execution_count": 0,
      "outputs": [
        {
          "output_type": "stream",
          "text": [
            "W0704 22:20:39.198632 139997100132224 deprecation.py:323] From <ipython-input-4-65ad13741e62>:9: conv2d_transpose (from tensorflow.python.layers.convolutional) is deprecated and will be removed in a future version.\n",
            "Instructions for updating:\n",
            "Use `tf.keras.layers.Conv2DTranspose` instead.\n",
            "W0704 22:20:39.207805 139997100132224 deprecation.py:506] From /usr/local/lib/python3.6/dist-packages/tensorflow/python/ops/init_ops.py:1251: calling VarianceScaling.__init__ (from tensorflow.python.ops.init_ops) with dtype is deprecated and will be removed in a future version.\n",
            "Instructions for updating:\n",
            "Call initializer instance with the dtype argument instead of passing it to the constructor\n",
            "W0704 22:20:40.176032 139997100132224 deprecation.py:323] From <ipython-input-4-65ad13741e62>:10: batch_normalization (from tensorflow.python.layers.normalization) is deprecated and will be removed in a future version.\n",
            "Instructions for updating:\n",
            "Use keras.layers.BatchNormalization instead.  In particular, `tf.control_dependencies(tf.GraphKeys.UPDATE_OPS)` should not be used (consult the `tf.keras.layers.batch_normalization` documentation).\n",
            "W0704 22:20:40.620306 139997100132224 deprecation.py:323] From <ipython-input-4-65ad13741e62>:34: conv2d (from tensorflow.python.layers.convolutional) is deprecated and will be removed in a future version.\n",
            "Instructions for updating:\n",
            "Use `tf.keras.layers.Conv2D` instead.\n",
            "W0704 22:20:41.310782 139997100132224 deprecation.py:323] From /usr/local/lib/python3.6/dist-packages/tensorflow/python/ops/nn_impl.py:180: add_dispatch_support.<locals>.wrapper (from tensorflow.python.ops.array_ops) is deprecated and will be removed in a future version.\n",
            "Instructions for updating:\n",
            "Use tf.where in 2.0, which has the same broadcast rule as np.where\n"
          ],
          "name": "stderr"
        }
      ]
    },
    {
      "cell_type": "code",
      "metadata": {
        "id": "7X-TKBAAakaQ",
        "colab_type": "code",
        "outputId": "6f085fec-c61f-4444-b25c-dd68daf891a7",
        "colab": {
          "base_uri": "https://localhost:8080/",
          "height": 35
        }
      },
      "source": [
        "print# results save folder\n",
        "root = 'MNIST_DCGAN_results/'\n",
        "model = 'MNIST_DCGAN_'\n",
        "if not os.path.isdir(root):\n",
        "    os.mkdir(root)\n",
        "if not os.path.isdir(root + 'Fixed_results'):\n",
        "    os.mkdir(root + 'Fixed_results')\n",
        "\n",
        "train_hist = {}\n",
        "train_hist['D_losses'] = []\n",
        "train_hist['G_losses'] = []\n",
        "train_hist['per_epoch_ptimes'] = []\n",
        "train_hist['total_ptime'] = []\n",
        "\n",
        "# training-loop\n",
        "np.random.seed(int(time.time()))\n",
        "print('training start!')\n",
        "start_time = time.time()\n",
        "for epoch in range(train_epoch):\n",
        "    G_losses = []\n",
        "    D_losses = []\n",
        "    epoch_start_time = time.time()\n",
        "    for iter in range(mnist.train.num_examples // batch_size):\n",
        "        # update discriminator\n",
        "        x_ = train_set[iter*batch_size:(iter+1)*batch_size]\n",
        "        z_ = np.random.normal(0, 1, (batch_size, 1, 1, 100))\n",
        "\n",
        "        loss_d_, _ = sess.run([D_loss, D_optim], {x: x_, z: z_, isTrain: True})\n",
        "        D_losses.append(loss_d_)\n",
        "        \n",
        "\n",
        "        # update generator\n",
        "        z_ = np.random.normal(0, 1, (batch_size, 1, 1, 100))\n",
        "        loss_g_, _ = sess.run([G_loss, G_optim], {z: z_, x: x_, isTrain: True})\n",
        "        G_losses.append(loss_g_)\n",
        "\n",
        "    epoch_end_time = time.time()\n",
        "    per_epoch_ptime = epoch_end_time - epoch_start_time\n",
        "    print('[%d/%d] - ptime: %.2f loss_d: %.3f, loss_g: %.3f' % ((epoch + 1), train_epoch, per_epoch_ptime, np.mean(D_losses), np.mean(G_losses)))\n",
        "    fixed_p = root + 'Fixed_results/' + model + str(epoch + 1) + '.png'\n",
        "    show_result((epoch + 1), save=True, path=fixed_p)\n",
        "    train_hist['D_losses'].append(np.mean(D_losses))\n",
        "    train_hist['G_losses'].append(np.mean(G_losses))\n",
        "    train_hist['per_epoch_ptimes'].append(per_epoch_ptime)\n",
        "\n",
        "end_time = time.time()\n",
        "total_ptime = end_time - start_time\n",
        "train_hist['total_ptime'].append(total_ptime)\n",
        "\n",
        "print('Avg per epoch ptime: %.2f, total %d epochs ptime: %.2f' % (np.mean(train_hist['per_epoch_ptimes']), train_epoch, total_ptime))\n",
        "print(\"Training finish!... save training results\")\n",
        "with open(root + model + 'train_hist.pkl', 'wb') as f:\n",
        "    pickle.dump(train_hist, f)\n",
        "\n",
        "show_train_hist(train_hist, save=True, path=root + model + 'train_hist.png')\n",
        "\n",
        "images = []\n",
        "for e in range(train_epoch):\n",
        "    img_name = root + 'Fixed_results/' + model + str(e + 1) + '.png'\n",
        "    images.append(imageio.imread(img_name))\n",
        "imageio.mimsave(root + model + 'generation_animation.gif', images, fps=5)\n",
        "\n",
        "#sess.close()"
      ],
      "execution_count": 0,
      "outputs": [
        {
          "output_type": "stream",
          "text": [
            "training start!\n"
          ],
          "name": "stdout"
        }
      ]
    },
    {
      "cell_type": "code",
      "metadata": {
        "id": "q_HM9oHoxDis",
        "colab_type": "code",
        "colab": {}
      },
      "source": [
        "# 25 random pictures of the GAN\n",
        "\n",
        "fig = plt.figure(figsize=(8, 8))\n",
        "plt.imshow(images[train_epoch-1],cmap='Greys',vmin=0, vmax=255)\n",
        "plt.show()\n"
      ],
      "execution_count": 0,
      "outputs": []
    },
    {
      "cell_type": "markdown",
      "metadata": {
        "id": "EY9hwLWJLqdR",
        "colab_type": "text"
      },
      "source": [
        "Save the gif file in google Drive:"
      ]
    },
    {
      "cell_type": "code",
      "metadata": {
        "id": "Gvp_IQszE4MC",
        "colab_type": "code",
        "colab": {}
      },
      "source": [
        "# Load the Drive helper and mount\n",
        "from google.colab import drive\n",
        "\n",
        "# This will prompt for authorization.\n",
        "drive.mount('/content/drive')\n",
        "\n",
        "!ls \"/content/drive/My Drive\"\n",
        "\n",
        "imageio.mimsave('/content/drive/My Drive/' + model + 'generation_animation.gif', images, fps=5)"
      ],
      "execution_count": 0,
      "outputs": []
    },
    {
      "cell_type": "markdown",
      "metadata": {
        "id": "JIgiB-0dLtuM",
        "colab_type": "text"
      },
      "source": [
        "Generate pictures from new noise:"
      ]
    },
    {
      "cell_type": "code",
      "metadata": {
        "id": "5iidt75-L42D",
        "colab_type": "code",
        "colab": {}
      },
      "source": [
        "random_noise = np.random.normal(0, 1, (25, 1, 1, 100))\n",
        "test_images = sess.run(G_z, {z: random_noise, isTrain: False})\n",
        "\n",
        "size_figure_grid = 5\n",
        "fig, ax = plt.subplots(size_figure_grid, size_figure_grid, figsize=(7, 7))\n",
        "for i, j in itertools.product(range(size_figure_grid), range(size_figure_grid)):\n",
        "    ax[i, j].get_xaxis().set_visible(False)\n",
        "    ax[i, j].get_yaxis().set_visible(False)\n",
        "\n",
        "for k in range(size_figure_grid*size_figure_grid):\n",
        "    i = k // size_figure_grid\n",
        "    j = k % size_figure_grid\n",
        "    ax[i, j].cla()\n",
        "    ax[i, j].imshow(np.reshape(test_images[k], (64, 64)), cmap='gray')\n",
        "label = 'Test'\n",
        "fig.text(0.5, 0.04, label, ha='center')\n",
        "\n",
        "plt.show()"
      ],
      "execution_count": 0,
      "outputs": []
    }
  ]
}